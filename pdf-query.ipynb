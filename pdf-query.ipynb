{
 "cells": [
  {
   "cell_type": "code",
   "execution_count": 19,
   "id": "fb64b772",
   "metadata": {},
   "outputs": [],
   "source": [
    "from langchain.vectorstores.cassandra import Cassandra\n",
    "from langchain.llms import openai\n",
    "from langchain_openai import OpenAI\n",
    "from langchain.indexes.vectorstore import VectorStoreIndexWrapper\n",
    "from langchain.embeddings import OpenAIEmbeddings\n",
    "\n",
    "from datasets import load_dataset\n",
    "\n",
    "# CassIO is the engine powering the astradb in langchain, will also help in connection\n",
    "import cassio"
   ]
  },
  {
   "cell_type": "code",
   "execution_count": 8,
   "id": "8d9d7be9",
   "metadata": {},
   "outputs": [
    {
     "data": {
      "text/plain": [
       "True"
      ]
     },
     "execution_count": 8,
     "metadata": {},
     "output_type": "execute_result"
    }
   ],
   "source": [
    "import os\n",
    "from PyPDF2 import PdfReader\n",
    "from dotenv import load_dotenv\n",
    "load_dotenv()"
   ]
  },
  {
   "cell_type": "code",
   "execution_count": 9,
   "id": "b9dd7960",
   "metadata": {},
   "outputs": [],
   "source": [
    "pdfreader = PdfReader('budget_speech.pdf')"
   ]
  },
  {
   "cell_type": "code",
   "execution_count": null,
   "id": "a3efd512",
   "metadata": {},
   "outputs": [],
   "source": [
    "from typing_extensions import Concatenate\n",
    "# read text from pdf\n",
    "raw_text = ''\n",
    "for i, page in enumerate(pdfreader.pages):\n",
    "    content = page.extract_text()\n",
    "    if content:\n",
    "        raw_text+=content"
   ]
  },
  {
   "cell_type": "code",
   "execution_count": 10,
   "id": "180e6f75",
   "metadata": {},
   "outputs": [],
   "source": [
    "# Initializing the connnection to db\n",
    "ASTRA_DB_APPLICATION_TOKEN = os.getenv('ASTRA_DB_APPLICATION_TOKEN')\n",
    "database_id = os.getenv('ASTRA_DB_ID')\n",
    "cassio.init(token = ASTRA_DB_APPLICATION_TOKEN, database_id=database_id)"
   ]
  },
  {
   "cell_type": "markdown",
   "id": "63bae4b0",
   "metadata": {},
   "source": [
    "## create the embeddings and llm objects for late use\n"
   ]
  },
  {
   "cell_type": "code",
   "execution_count": null,
   "id": "b7fb40fc",
   "metadata": {},
   "outputs": [
    {
     "name": "stderr",
     "output_type": "stream",
     "text": [
      "/tmp/ipykernel_1217650/3239828043.py:2: LangChainDeprecationWarning: The class `OpenAIEmbeddings` was deprecated in LangChain 0.0.9 and will be removed in 1.0. An updated version of the class exists in the :class:`~langchain-openai package and should be used instead. To use it run `pip install -U :class:`~langchain-openai` and import as `from :class:`~langchain_openai import OpenAIEmbeddings``.\n",
      "  embedding = OpenAIEmbeddings(openai_api_key = OPENAI_API_KEY)\n"
     ]
    }
   ],
   "source": [
    "OPENAI_API_KEY = os.getenv('OPENAI_API_KEY')\n",
    "embedding = OpenAIEmbeddings(openai_api_key = OPENAI_API_KEY)"
   ]
  },
  {
   "cell_type": "code",
   "execution_count": 13,
   "id": "62e96d60",
   "metadata": {},
   "outputs": [],
   "source": [
    "astra_vector_store = Cassandra(\n",
    "    embedding=embedding,\n",
    "    table_name='qa_mini_demo',\n",
    "    session=None,\n",
    "    keyspace=None\n",
    ")"
   ]
  },
  {
   "cell_type": "code",
   "execution_count": 14,
   "id": "a04cf99d",
   "metadata": {},
   "outputs": [],
   "source": [
    "from langchain.text_splitter import CharacterTextSplitter\n",
    "text_splitter = CharacterTextSplitter(\n",
    "    separator='\\n',\n",
    "    chunk_size = 800,\n",
    "    chunk_overlap = 200,\n",
    "    length_function = len,\n",
    ")\n",
    "\n",
    "texts = text_splitter.split_text(raw_text)"
   ]
  },
  {
   "cell_type": "code",
   "execution_count": 15,
   "id": "6caea693",
   "metadata": {},
   "outputs": [
    {
     "data": {
      "text/plain": [
       "['GOVERNMENT OF INDIA\\nBUDGET 2025-2026\\nSPEECH\\nOF\\nNIRMALA SITHARAMAN\\nMINISTER OF FINANCE\\nFebruary 1,  2025 \\nCONTENTS  \\n \\nPART – A \\n Page No.  \\nIntroduction  1 \\nBudget Theme  1 \\nAgriculture as the 1st engine  3 \\nMSMEs as the 2nd engine  6 \\nInvestment as the 3rd engine  8 \\nA. Investing in People  8 \\nB. Investing in  the Economy  10 \\nC. Investing in Innovation  14 \\nExports as the 4th engine  15 \\nReforms as the Fuel  16 \\nFiscal Policy  18 \\n \\n \\nPART – B \\nIndirect taxes  20 \\nDirect Taxes   23 \\n \\nAnnexure to Part -A 29 \\nAnnexure to Part -B 31 \\n \\n   \\n \\nBudget 202 5-2026 \\n \\nSpeech of  \\nNirmala Sitharaman  \\nMinister of Finance  \\nFebruary 1 , 202 5 \\nHon’ble Speaker,  \\n I present the Budget for 2025 -26. \\nIntroduction  \\n1. This Budget continues our Government ’s efforts to:  \\na) accelerate growth,',\n",
       " 'Minister of Finance  \\nFebruary 1 , 202 5 \\nHon’ble Speaker,  \\n I present the Budget for 2025 -26. \\nIntroduction  \\n1. This Budget continues our Government ’s efforts to:  \\na) accelerate growth,  \\nb) secure inclusive development,  \\nc) invigorate private sector investments,  \\nd) uplift household sentiments, and \\ne) enhance spending power of India’s rising middle class.  \\n2. Together, we embark on a journey to unlock our nation’s tremendous \\npotential for greater prosperity and global positioning under the leadership of \\nHon’ble Prime Minister Shri Narendra Modi.  \\n3. As we complete the first quarter of the 21st century, continuing \\ngeopolitical headwinds suggest lower  global economic growth over the \\nmedium term. However, our aspiration for a Viksit Bharat inspires us, and the',\n",
       " 'geopolitical headwinds suggest lower  global economic growth over the \\nmedium term. However, our aspiration for a Viksit Bharat inspires us, and the \\ntransformative work we have done during our Government ’s first two terms \\nguides us, to march forward resolutely.  \\nBudget Theme  \\n4. Our economy is the fastest -growing among all major global economies. \\nOur development track record of the past 10 years and structural reforms have \\ndrawn global attention. Confidence in India’s capability and potential has only  2  \\n \\ngrown in this period. We see the next five years as a unique opportunity to \\nrealize ‘Sabka Vikas’, stimulating balanced growth of all regions.  \\n5. The great Telugu poet and playwright Gurajada Appa Rao had said,',\n",
       " 'realize ‘Sabka Vikas’, stimulating balanced growth of all regions.  \\n5. The great Telugu poet and playwright Gurajada Appa Rao had said, \\n‘Desamante Matti Kaadoi, Desamante Manushuloi ’; meaning, ‘A country is not \\njust its soil, a country is its people.’ In line with this, for us, Viksit Bharat, \\nencompasses:  \\na) zero -poverty;  \\nb) hundred per cent good quality school education;   \\nc) access to high -quality, affordable, and comprehensive healthcare;  \\nd) hundred per cent skilled labour with meaningful employment;  \\ne) seventy per cent women in economic activities; and  \\nf) farmers making our country the ‘food basket of the world’.  \\n6. In this Budget, the proposed development measures span ten broad \\nareas focusing on Garib, Youth, Annadata and Nari.',\n",
       " 'f) farmers making our country the ‘food basket of the world’.  \\n6. In this Budget, the proposed development measures span ten broad \\nareas focusing on Garib, Youth, Annadata and Nari.  \\n1) Spurring Agricultural Growth and Productivity;  \\n2) Building Rural Prosperity and Resilience;  \\n3) Taking Everyone Together on an Inclusive Growth path;  \\n4) Boosting Manufacturing and Furthering Make in India;  \\n5) Supporting MSMEs;  \\n6) Enabling Employment -led Development;  \\n7) Investing in people, economy and innovation;  \\n8) Securing Energy Supplies;  \\n9) Promoting Exports; and  \\n10) Nurturing Innovation . \\n7. For this journey of development,  \\na) Our four powerful engines are: Agriculture, MSME, Investment, and \\nExports  \\nb) The fuel: our Reforms  \\nc) Our guiding spirit: Inclusivity',\n",
       " '7. For this journey of development,  \\na) Our four powerful engines are: Agriculture, MSME, Investment, and \\nExports  \\nb) The fuel: our Reforms  \\nc) Our guiding spirit: Inclusivity  \\nd) And the destination: Viksit Bharat   3  \\n \\n8. This Budget aims to initiate transformative reforms across six domains. \\nDuring the next five years, these will augment our growth potential and global \\ncompetitiveness. The domains are:  \\n1) Taxation;  \\n2) Power Sector;  \\n3) Urban Development;  \\n4) Mining;  \\n5) Financial Sector; and  \\n6) Regulatory Reforms.  \\nAgriculture as the 1st Engine  \\n9. Now I move to specific proposals, beginning with ‘Agriculture as the 1st \\nEngine’.  \\nPrime Minister Dhan -Dhaanya Krishi Yojana - Developing Agri Districts \\nProgramme',\n",
       " '9. Now I move to specific proposals, beginning with ‘Agriculture as the 1st \\nEngine’.  \\nPrime Minister Dhan -Dhaanya Krishi Yojana - Developing Agri Districts \\nProgramme  \\n10. Motivated by the success of the Aspirational Districts Programme, our \\nGovernment  will undertake a ‘Prime Minister Dhan -Dhaanya Krishi Yojana ’ in \\npartnership with states. Through the convergence of existing schemes and \\nspecialized measures, the programme will cover 100 districts with low \\nproductivity, moderate crop intensity and below -average credit parameters. It \\naims to (1) enhance agricultural  productivity, (2) adopt crop diversification and \\nsustainable agriculture practices, (3) augment post -harvest stor age at the \\npanchayat and block level, (4) improve irrigation facilities, and (5) facilitate',\n",
       " 'sustainable agriculture practices, (3) augment post -harvest stor age at the \\npanchayat and block level, (4) improve irrigation facilities, and (5) facilitate \\navailability of long -term and short -term credit. This programme is likely to help \\n1.7 crore farmers.  \\nBuilding Rural Prosperity and Resilience  \\n11. A comprehensive multi -sectoral ‘Rural Prosperity and Resilience’ \\nprogramme will be launched in partnership with states. This will address under -\\nemployment in agriculture through skilling, investment, technology, and \\ninvigorating the rural economy. The goal  is to generate ample opportunities in \\nrural areas so that migration is an option, but not a necessity.  \\n12. The programme will focus on rural women, young farmers, rural youth,',\n",
       " 'rural areas so that migration is an option, but not a necessity.  \\n12. The programme will focus on rural women, young farmers, rural youth, \\nmarginal and small farmers, and landless families. Details are in Annexure A.   4  \\n \\n13. Global and domestic best practices will be incorporated and \\nappropriate technical and financial assistance will be sought from multilateral \\ndevelopment banks. In Phase -1, 100 developing agri -districts will be covered.   \\nAatmanirbharta in Pulses    \\n14. Our Government  is implementing the National Mission for Edible \\nOilseed for achieving atmanirbhrata in edible oils. Our farmers have the \\ncapability to grow enough for our needs and more.  \\n15. Ten years ago, we made concerted efforts and succeeded in achieving',\n",
       " 'Oilseed for achieving atmanirbhrata in edible oils. Our farmers have the \\ncapability to grow enough for our needs and more.  \\n15. Ten years ago, we made concerted efforts and succeeded in achieving \\nnear self -sufficiency in pulses. Farmers responded to the need by increasing the \\ncultivated area by 50 per cent and Government  arranged for procurement and \\nremunerative prices. Since then, with rising incomes and better affordability, \\nour consumption of pulses has increased significantly.  \\n16. Our Government  will now launch a 6 -year “Mission for Aatmanirbharta \\nin Pulses” with a special focus on Tur, Urad and Masoor.  Details are in \\nAnnexure B. Central agencies (NAFED and NCCF) will be ready to procure these',\n",
       " 'in Pulses” with a special focus on Tur, Urad and Masoor.  Details are in \\nAnnexure B. Central agencies (NAFED and NCCF) will be ready to procure these \\n3 pulses, as much as offered during the next 4 years  from farmers who register \\nwith these agencies and enter into agreements.   \\nComprehensive Programme for Vegetables & Fruits  \\n17. It is encouraging that our people are increasingly becoming aware of \\ntheir nutritional needs. It is a sign of a society becoming healthier. With rising \\nincome levels, the consumption of vegetables, fruits and shree -anna is \\nincreasing significantly. A compr ehensive programme to promote production, \\nefficient supplies, processing, and remunerative prices for farmers will be \\nlaunched in partnership with states. Appropriate institutional mechanisms for',\n",
       " 'efficient supplies, processing, and remunerative prices for farmers will be \\nlaunched in partnership with states. Appropriate institutional mechanisms for \\nimplementation and participation of farmer producer organiza tions and \\ncooperatives will be set up.   \\nMakhana Board in Bihar  \\n18. For this, there is a special opportunity for the people of Bihar. A \\nMakhana Board will be established in the state to improve production, \\nprocessing, value addition, and marketing of makhana. The people engaged in \\nthese activities will be organized into FP Os. The Board will provide handholding \\nand training support to makhana farmers and will also work to ensure they \\nreceive the benefits of all relevant Government  schemes.     5  \\n \\nNational Mission on High Yielding Seeds',\n",
       " 'and training support to makhana farmers and will also work to ensure they \\nreceive the benefits of all relevant Government  schemes.     5  \\n \\nNational Mission on High Yielding Seeds  \\n19. A National Mission on High Yielding Seeds will be launched, aimed at (1) \\nstrengthening the research ecosystem, (2) targeted development and \\npropagation of seeds with high yield, pest resistance and climate resilience, and \\n(3) commercial availability of mor e than 100 seed varieties released since July \\n2024.  \\nFisheries  \\n20. India ranks second -largest globally in fish production and aquaculture. \\nSeafood exports are valued at ` 60 thousand crore. To unlock the untapped \\npotential of the marine sector, our Government  will bring in an enabling',\n",
       " 'Seafood exports are valued at ` 60 thousand crore. To unlock the untapped \\npotential of the marine sector, our Government  will bring in an enabling \\nframework for sustainable harnessing of fisheries from Indian Exclusive \\nEconomic Zone and High Seas, with a special focus on the Andaman & Nicobar \\nand Lakshadweep Islands.  \\nMission for Cotton Productivity  \\n21. For the benefit of lakhs of cotton growing farmers, I am pleased to \\nannounce a ‘Mission for Cotton Productivity’. This 5 -year mission will facilitate \\nsignificant improvements in productivity and sustainability of cotton farming, \\nand promote extra -long stap le cotton varieties. The best of science & \\ntechnology support will be provided to farmers. Aligned with our integrated 5F',\n",
       " 'and promote extra -long stap le cotton varieties. The best of science & \\ntechnology support will be provided to farmers. Aligned with our integrated 5F \\nvision for the textile sector, this will help in increasing incomes of the farmers, \\nand ensure a steady supply of quality cotton for r ejuvenating India’s traditional \\ntextile sector.  \\nEnhanced Credit through KCC  \\n22. Kisan Credit Cards (KCC) facilitate short term loans for 7.7 crore farmers, \\nfishermen, and dairy farmers. The loan limit under the Modified Interest \\nSubvention Scheme will be enhanced from ` 3 lakh to 5 lakh for loans taken \\nthrough the KCC.   \\nUrea Plant in Assam  \\n23. For Atmanirbharta in urea production, our Government  had reopened \\nthree dormant urea plants in the Eastern region. To further augment urea',\n",
       " 'through the KCC.   \\nUrea Plant in Assam  \\n23. For Atmanirbharta in urea production, our Government  had reopened \\nthree dormant urea plants in the Eastern region. To further augment urea \\nsupply, a plant with annual capacity of 12.7 lakh metric tons will be set up at \\nNamrup, Assam.  \\nIndia Post as a Catalyst for the Rural Economy  \\n24. India Post with 1.5 lakh rural post offices, complemented by the India \\nPost Payment Bank and a vast network of 2.4 lakh Dak Sevaks, will be \\nrepositioned to act as a catalyst for the rural economy. Details are at \\nAnnexure C.   6  \\n \\n25. India Post will also be transformed as a large public logistics \\norganization. This will meet the rising needs of Viswakarmas, new \\nentrepreneurs, women, self -help groups, MSMEs, and large business \\norganizations.',\n",
       " 'organization. This will meet the rising needs of Viswakarmas, new \\nentrepreneurs, women, self -help groups, MSMEs, and large business \\norganizations.  \\nSupport to NCDC  \\n26. Our Government  will provide support to NCDC for its lending operations \\nfor the cooperative sector.  \\nMSMEs as the 2nd engine  \\n27. Now, I move to MSMEs as the 2nd engine, which encompasses \\nmanufacturing and services with a focus on MSMEs  numbering 5.7 crore . \\nRevision in classification criteria for MSMEs  \\n28. Currently, over 1 crore registered MSMEs, employing 7.5 crore people, \\nand generating 36 per cent of our manufacturing, have come together to \\nposition India as a global manufacturing hub. With their quality products, \\nthese MSMEs are responsible for 45 per c ent of our exports. To help them',\n",
       " 'position India as a global manufacturing hub. With their quality products, \\nthese MSMEs are responsible for 45 per c ent of our exports. To help them \\nachieve higher efficiencies of scale, technological upgradation and better \\naccess to capital, the investment and turnover limits for classification of all \\nMSMEs will be enhanced to 2.5 and 2 times respectively. This will gi ve them \\nthe confidence to grow and generate employment for our youth. The details \\nare in Annexure D.  \\nSignificant enhancement of credit availability with guarantee cover  \\n29. To improve access to credit, the credit guarantee cover will be \\nenhanced : \\na) For Micro and Small Enterprises, from ` 5 crore to 10 crore, leading \\nto additional credit of ` 1.5 lakh crore in the next 5 years;',\n",
       " 'enhanced : \\na) For Micro and Small Enterprises, from ` 5 crore to 10 crore, leading \\nto additional credit of ` 1.5 lakh crore in the next 5 years;  \\nb) For Startups, from ` 10 crore to 20 crore, with the guarantee fee \\nbeing moderated to 1 per cent for loans in 27 focus sectors \\nimportant for Atmanirbhar Bharat; and  \\nc) For well -run exporter MSMEs, for term loans up to ` 20 crore.  \\nCredit Cards for Micro Enterprises  \\n30. We will introduce customized Credit Cards with a ` 5 lakh limit for micro \\nenterprises registered on Udyam portal. In the first year, 10 lakh such cards will \\nbe issued.   7  \\n \\nFund of Funds for Startups  \\n31. The Alternate Investment Funds (AIFs) for startups have received \\ncommitments of more than ` 91,000 crore. These are supported by the Fund',\n",
       " 'be issued.   7  \\n \\nFund of Funds for Startups  \\n31. The Alternate Investment Funds (AIFs) for startups have received \\ncommitments of more than ` 91,000 crore. These are supported by the Fund \\nof Funds set up with a Government  contribution of ` 10,000 crore. Now, a new \\nFund of Funds, with expanded scope and a fresh contribution of another  \\n` 10,000 crore will be set up.  \\nScheme for First -time Entrepreneurs  \\n32. A new scheme will be launched for 5 lakh women, Scheduled Castes and \\nScheduled Tribes first -time entrepreneurs. This will provide term loans up  \\nto ` 2 crore during the next 5 years. The scheme will incorporate lessons from \\nthe successful Stand -Up India scheme. Online capacity building for \\nentrepreneurship and managerial skills will also be organized.',\n",
       " 'the successful Stand -Up India scheme. Online capacity building for \\nentrepreneurship and managerial skills will also be organized.     \\nMeasures for Labour -Intensive Sectors      \\n33. To promote employment and entrepreneurship opportunities in \\nlabour -intensive sectors, our Government  will undertake specific policy and  \\nfacilitation measures.  \\nFocus Product Scheme for Footwear & Leather Sectors  \\n34. To enhance the productivity, quality and competitiveness  of India’s \\nfootwear and leather sector, a focus product scheme will be implemented. The \\nscheme will support design capacity, component manufacturing, and \\nmachinery required for production of non -leather quality footwear, besides the \\nsupport for leather foo twear and products. The scheme is expected to facilitate',\n",
       " \"machinery required for production of non -leather quality footwear, besides the \\nsupport for leather foo twear and products. The scheme is expected to facilitate \\nemployment for 22 lakh persons, generate turnover of ` 4 lakh crore and \\nexports of over ` 1.1 lakh crore.  \\nMeasures for the Toy Sector  \\n35. Building on the National Action Plan for Toys, we will implement a \\nscheme to make India a global hub for toys. The scheme will focus on \\ndevelopment of clusters, skills, and a manufacturing ecosystem  that will create \\nhigh -quality, unique, innovative, and sustainable toys that will represent the \\n'Made in India' brand.  \\nSupport for Food Processing  \\n36. In line with our commitment towards ‘Purvodaya ’, we will establish a\",\n",
       " \"'Made in India' brand.  \\nSupport for Food Processing  \\n36. In line with our commitment towards ‘Purvodaya ’, we will establish a \\nNational Institute of Food Technology, Entrepreneurship and Management in \\nBihar. The institute will provide a strong fillip to food processing activities in  8  \\n \\nthe entire Eastern region. This will result in (1) enhanced income for the \\nfarmers through value addition to their produce, and (2) skilling, \\nentrepreneurship and employment opportunities for the youth.  \\nManufacturing Mission - Furthering “Make in India”  \\n37. Our Government  will set up a National Manufacturing Mission covering \\nsmall, medium and large industries for furthering “Make in India” by providing \\npolicy support, execution roadmaps, governance and monitoring framework\",\n",
       " 'small, medium and large industries for furthering “Make in India” by providing \\npolicy support, execution roadmaps, governance and monitoring framework \\nfor central ministries and states. Details are in Annexure E.  \\nClean Tech Manufacturing  \\n38. Given our commitment to climate -friendly development, the Mission \\nwill also support Clean Tech manufacturing. This will aim to improve domestic \\nvalue addition and build our ecosystem for solar PV cells, EV batteries, motors \\nand controllers, electrolyzers, wind turbines, very high voltage transmission \\nequipment and grid scale batteries.   \\nInvestment as the 3rd engine  \\n39. Now, I move to Investment as the 3rd engine, which encompasses \\ninvesting in people, investing in the economy and investing in innovation.  \\nA. Investing in People',\n",
       " 'Investment as the 3rd engine  \\n39. Now, I move to Investment as the 3rd engine, which encompasses \\ninvesting in people, investing in the economy and investing in innovation.  \\nA. Investing in People  \\nSaksham Anganwadi and Poshan 2.0  \\n40. The Saksham Anganwadi and Poshan 2.0 programme provides \\nnutritional support to more than 8 crore children, 1 crore pregnant women and \\nlactating mothers all over the country, and about 20 lakh adolescent girls in \\naspirational districts and the north -east re gion. The cost norms for the \\nnutritional support will be enhanced appropriately.  \\nAtal Tinkering Labs  \\n41. Fifty thousand Atal Tinkering Labs will be set up in Government  schools \\nin next 5 years to cultivate the spirit of curiosity and innovation, and foster a',\n",
       " 'Atal Tinkering Labs  \\n41. Fifty thousand Atal Tinkering Labs will be set up in Government  schools \\nin next 5 years to cultivate the spirit of curiosity and innovation, and foster a \\nscientific temper among young minds.  \\nBroadband Connectivity to Government Secondary Schools and PHCs  \\n42. Broadband connectivity will be provided to all Government  secondary \\nschools and primary health centres in rural areas under the Bharatnet project.   9  \\n \\nBharatiya Bhasha Pustak Scheme  \\n43. We propose to implement a Bharatiya Bhasha Pustak Scheme to \\nprovide digital -form Indian language books for school and higher education. \\nThis aims to help students understand their subjects better.  \\nNational Centres of Excellence for Skilling',\n",
       " 'provide digital -form Indian language books for school and higher education. \\nThis aims to help students understand their subjects better.  \\nNational Centres of Excellence for Skilling  \\n44. Building on the initiative announced in the July 2024 Budget, five \\nNational Centres of Excellence for skilling will be set up with global expertise \\nand partnerships to equip our youth with the skills required for “Make for India, \\nMake for the World” manufa cturing. The partnerships will cover curriculum \\ndesign, training of trainers, a skills certification framework, and periodic \\nreviews.  \\nExpansion of Capacity in IITs  \\n45. Total number of students in 23 IITs has increased 100 per cent from \\n65,000 to 1.35 lakh in the past 10 years. Additional infrastructure will be',\n",
       " 'reviews.  \\nExpansion of Capacity in IITs  \\n45. Total number of students in 23 IITs has increased 100 per cent from \\n65,000 to 1.35 lakh in the past 10 years. Additional infrastructure will be \\ncreated in the 5 IITs started after 2014 to facilitate education for 6,500 more \\nstudents. Hostel and other infra structure capacity at IIT, Patna will also be \\nexpanded.  \\nCentre of Excellence in AI for Education  \\n46. I had announced three Centres of Excellence in Artificial Intelligence for \\nagriculture,  health,  and sustainable cities in 2023. Now a Centre of Excellence \\nin Artificial Intelligence for education will be set up with a total outlay of ` 500 \\ncrore.      \\nExpansion of medical education  \\n47. Our Government  has added almost 1.1 lakh UG and PG medical',\n",
       " 'in Artificial Intelligence for education will be set up with a total outlay of ` 500 \\ncrore.      \\nExpansion of medical education  \\n47. Our Government  has added almost 1.1 lakh UG and PG medical \\neducation seats in ten years, an increase of 130 per cent. In the next  year, \\n10,000  additional seats will be added in medical colleges and hospitals, towards \\nthe goal of adding 75,000 seats in the next 5 years.  \\nDay Care Cancer Centres in all District Hospitals   \\n48. Our Government  will facilitate setting up of Day Care Cancer Centres \\nin all district hospitals in the next 3 years. 200 Centres will be established in \\n2025 -26.   10  \\n \\nStrengthening urban livelihoods  \\n49. Our Government  has been giving priority to assisting urban poor and',\n",
       " '2025 -26.   10  \\n \\nStrengthening urban livelihoods  \\n49. Our Government  has been giving priority to assisting urban poor and \\nvulnerable groups. A scheme for socio -economic upliftment of urban workers \\nwill be implemented to help them improve their incomes, have sustainable \\nlivelihoods and a better quality of life.    \\nPM SVANidhi  \\n50. PM SVANidhi scheme has benefitted more than 68 lakh street vendors \\ngiving them respite from high -interest informal sector loans. Building on this \\nsuccess, the scheme will be revamped with enhanced loans from banks, UPI \\nlinked credit cards with ` 30,000 limit, and capacity building support.  \\nSocial Security Scheme for Welfare of Online Platform Workers  \\n51. Gig workers of online platforms provide great dynamism to the new -',\n",
       " 'Social Security Scheme for Welfare of Online Platform Workers  \\n51. Gig workers of online platforms provide great dynamism to the new -\\nage services economy.  Recognising their contribution, our Government  will \\narrange for their identity cards and registration on the e -Shram portal. They \\nwill be provided healthcare under PM Jan Arogya Yojana. This measure is likely \\nto assist nearly 1 crore gig -workers.   \\nB. Investing in the Economy  \\nPublic Private Partnership in Infrastructure  \\n52. Each infrastructure -related ministry will come up with a 3 -year pipeline \\nof projects that can be implemented in PPP mode. States will also be \\nencouraged to do so and can seek support from the IIPDF (India Infrastructure \\nProject Development Fund) scheme to prepare PPP proposals.',\n",
       " 'encouraged to do so and can seek support from the IIPDF (India Infrastructure \\nProject Development Fund) scheme to prepare PPP proposals.     \\nSupport to States for Infrastructure  \\n53. An outlay of ` 1.5 lakh crore is proposed for the 50 -year interest free \\nloans to states for capital expenditure and incentives for reforms.    \\nAsset Monetization Plan 2025 -30 \\n54. Building on the success of the first Asset Monetization Plan announced \\nin 2021, the second Plan for 2025 -30 will be launched to plough back capital of \\n` 10 lakh crore in new projects. Regulatory and fiscal measures will be fine -\\ntuned to support the Plan.  \\nJal Jeevan Mission  \\n55. Since 2019, 15 crore households representing 80 per cent of India’s',\n",
       " 'tuned to support the Plan.  \\nJal Jeevan Mission  \\n55. Since 2019, 15 crore households representing 80 per cent of India’s \\nrural population have been provided access to potable tap water connections.  11  \\n \\nTo achieve 100 per cent coverage, I am pleased to announce the extension of \\nthe Mission until 2028 with an enhanced total outlay.    \\n56. The Mission’s focus will be on the quality of infrastructure and O&M of \\nrural piped water supply schemes through “Jan Bhagidhari”. Separate MoUs \\nwill be signed with states/UTs, to ensure sustainability and citizen -centric water \\nservice delivery.  \\nUrban Sector Reforms  \\n57. Building on the July Budget proposals, urban sector reforms related to \\ngovernance, municipal services, urban land, and planning will be incentivized.',\n",
       " 'service delivery.  \\nUrban Sector Reforms  \\n57. Building on the July Budget proposals, urban sector reforms related to \\ngovernance, municipal services, urban land, and planning will be incentivized.  \\nUrban Challenge Fund  \\n58. The Government  will set up an Urban Challenge Fund of ` 1 lakh crore \\nto implement the proposals for ‘Cities as Growth Hubs’, ‘Creative \\nRedevelopment of Cities’ and ‘Water and Sanitation’ announced in the July \\nBudget.  \\n59. This fund will finance up to 25 per cent of the cost of bankable projects \\nwith a stipulation that at least 50 per cent of the cost is funded from bonds, \\nbank loans, and PPPs.  An allocation of ` 10,000 crore is proposed for 2025 -26.  \\nPower Sector Reforms  \\n60. We will incentivize electricity distribution reforms and augmentation of',\n",
       " 'bank loans, and PPPs.  An allocation of ` 10,000 crore is proposed for 2025 -26.  \\nPower Sector Reforms  \\n60. We will incentivize electricity distribution reforms and augmentation of \\nintra -state transmission capacity by states. This will improve financial health \\nand capacity of electricity companies. Additional borrowing of 0.5 per cent of \\nGSDP will be allowed to states,  contingent on these reforms.  \\nNuclear Energy Mission for Viksit Bharat  \\n61. Development of at least 100 GW of nuclear energy by 2047 is essential \\nfor our energy transition efforts. For an active partnership with the private \\nsector towards this goal, amendments to the Atomic Energy Act and the Civil \\nLiability for Nuclear Damage Act  will be taken up.',\n",
       " 'sector towards this goal, amendments to the Atomic Energy Act and the Civil \\nLiability for Nuclear Damage Act  will be taken up.  \\n62. A Nuclear Energy Mission for research & development of Small Modular \\nReactors (SMR) with an outlay  of ` 20,000 crore will be set up.  At least 5 \\nindigenously developed SMRs will be operationalized by 2033.   12  \\n \\nShipbuilding    \\n63. The Shipbuilding Financial Assistance Policy will be revamped to \\naddress cost disadvantages. This will also include Credit Notes for shipbreaking \\nin Indian yards to promote the circular economy.  \\n64. Large ships above a specified size will be included in the infrastructure \\nharmonized master list (HML).   \\n65. Shipbuilding Clusters will be facilitated to increase the range, categories',\n",
       " '64. Large ships above a specified size will be included in the infrastructure \\nharmonized master list (HML).   \\n65. Shipbuilding Clusters will be facilitated to increase the range, categories \\nand capacity of ships. This will include additional infrastructure facilities, skilling \\nand technology to develop the entire ecosystem.  \\nMaritime Development Fund  \\n66. For long -term financing for the maritime industry, a Maritime \\nDevelopment Fund with a corpus of ` 25,000 crore will be set up. This will be \\nfor distributed support and promoting competition. This will have up to 49 per \\ncent contribution by the Government , and the balance will be mobilized from \\nports and private sector.  \\nUDAN - Regional Connectivity Scheme    \\n67. UDAN has enabled 1.5 crore middle -class people to meet their',\n",
       " 'ports and private sector.  \\nUDAN - Regional Connectivity Scheme    \\n67. UDAN has enabled 1.5 crore middle -class people to meet their \\naspirations for speedier travel. The scheme has connected 88 airports and \\noperationalized 619 routes. Inspired by that success, a modified UDAN scheme \\nwill be launched to enhance regional connect ivity to 120 new destinations and \\ncarry 4 crore passengers in the next 10 years.  The scheme will also support \\nhelipads and smaller airports in hilly, aspirational, and North East region \\ndistricts.  \\nGreenfield Airport in Bihar  \\n68. Greenfield airports will be facilitated in Bihar to meet the future needs \\nof the State. These will be in addition to the expansion of the capacity of Patna \\nairport and a brownfield airport at Bihta.',\n",
       " 'of the State. These will be in addition to the expansion of the capacity of Patna \\nairport and a brownfield airport at Bihta.  \\nWestern Koshi Canal Project in Mithilanchal  \\n69. Financial support will be provided for the Western Koshi Canal ERM \\nProject benefitting a large number of farmers cultivating over 50,000 hectares \\nof land in the Mithilanchal region of Bihar.   13  \\n \\nMining Sector Reforms  \\n70. Mining sector reforms, including those for minor minerals, will be \\nencouraged through sharing of best practices and institution of a State Mining \\nIndex.  \\n71. A policy for recovery of critical minerals from tailings will be brought out.   \\nSWAMIH Fund 2  \\n72. Under the Special Window for Affordable and Mid -Income Housing',\n",
       " 'Index.  \\n71. A policy for recovery of critical minerals from tailings will be brought out.   \\nSWAMIH Fund 2  \\n72. Under the Special Window for Affordable and Mid -Income Housing \\n(SWAMIH) fifty thousand dwelling units in stressed housing projects have been \\ncompleted, and keys handed over to home -buyers. Another forty thousand \\nunits will be completed in 2025, further hel ping middle -class families who were \\npaying EMIs on loans taken for apartments, while also paying rent for their \\ncurrent dwellings.  \\n73. Building on this success, SWAMIH Fund 2 will be established as a \\nblended finance facility with contribution from the Government , banks and \\nprivate investors. This fund of ` 15,000 crore will aim for expeditious \\ncompletion of another 1 lakh units.',\n",
       " 'blended finance facility with contribution from the Government , banks and \\nprivate investors. This fund of ` 15,000 crore will aim for expeditious \\ncompletion of another 1 lakh units.    \\nPM Gati Shakti Data for Private Sector  \\n74. For furthering PPPs and assisting the private sector in project planning, \\naccess to relevant data and maps from the PM Gati Shakti portal will be \\nprovided.        \\nTourism for employment -led growth  \\n75. Top 50 tourist destination sites in the country will be developed in \\npartnership with states through a challenge mode. Land for building key \\ninfrastructure will have to be provided by states. Hotels in those destinations \\nwill be included in the infrastruct ure HML.   \\n76. The following measures will be taken for facilitating employment -led \\ngrowth:',\n",
       " 'will be included in the infrastruct ure HML.   \\n76. The following measures will be taken for facilitating employment -led \\ngrowth:  \\n1) Organizing intensive skill -development programmes for our youth \\nincluding in Institutes of Hospitality Management;  \\n2) Providing MUDRA loans for homestays;  \\n3) Improving ease of travel and connectivity to tourist destinations;   14  \\n \\n4) Providing performance -linked incentives to states for effective \\ndestination management including tourist amenities, cleanliness, \\nand marketing efforts; and  \\n5) Introducing streamlined e -visa facilities along with visa -fee waivers \\nfor certain tourist groups.  \\n77. Continuing with the emphasis on places of spiritual and religious \\nsignificance in the July Budget, there will be a special focus on destinations',\n",
       " 'for certain tourist groups.  \\n77. Continuing with the emphasis on places of spiritual and religious \\nsignificance in the July Budget, there will be a special focus on destinations \\nrelated to the life and times of Lord Buddha.  \\nMedical Tourism and Heal in India  \\n78. Medical Tourism and Heal in India will be promoted in partnership with \\nthe private sector along with capacity building and easier visa norms.  \\nC. Investing in Innovation  \\nResearch, Development and Innovation  \\n79. To implement private sector driven Research, Development and \\nInnovation initiative announced in the July Budget, I am now allocating  \\n` 20,000 crore.   \\nDeep Tech Fund of Funds  \\n80. A Deep Tech Fund of Funds will also be explored to catalyze the next \\ngeneration startups as a part of this initiative.',\n",
       " '` 20,000 crore.   \\nDeep Tech Fund of Funds  \\n80. A Deep Tech Fund of Funds will also be explored to catalyze the next \\ngeneration startups as a part of this initiative.  \\nPM Research Fellowship  \\n81. In the next five years, under the PM Research Fellowship scheme, we \\nwill provide ten thousand fellowships for technological research in IITs and IISc \\nwith enhanced financial support.  \\nGene Bank for Crops Germplasm  \\n82. The 2nd Gene Bank with 10 lakh germplasm lines will be set up for future \\nfood and nutritional security. This will provide conservation support to both \\npublic and private sectors for genetic resources.   \\nNational Geospatial Mission  \\n83. We will start a National Geospatial Mission to develop foundational',\n",
       " 'public and private sectors for genetic resources.   \\nNational Geospatial Mission  \\n83. We will start a National Geospatial Mission to develop foundational \\ngeospatial infrastructure and data. Using PM Gati Shakti, this Mission will \\nfacilitate modernization of land records, urban planning, and design of \\ninfrastructure projects.    15  \\n \\nGyan Bharatam Mission  \\n84. A Gyan Bharatam Mission for survey, documentation and conservation \\nof our manuscript heritage with academic institutions, museums, libraries and \\nprivate collectors will be undertaken to cover more than 1 crore manuscripts. \\nWe will set up a National Digital  Repository of Indian knowledge systems for \\nknowledge sharing.  \\n85. Now, I move to Exports as the 4th engine.   \\nExports as the 4th engine  \\nExport Promotion Mission',\n",
       " 'knowledge sharing.  \\n85. Now, I move to Exports as the 4th engine.   \\nExports as the 4th engine  \\nExport Promotion Mission  \\n86. We will set up an Export Promotion Mission, with sectoral and \\nministerial targets, driven jointly by the Ministries of Commerce, MSME, and \\nFinance. It will facilitate easy access to export credit, cross -border factoring \\nsupport, and support to MSMEs to tac kle non -tariff measures in overseas \\nmarkets.  \\nBharatTradeNet  \\n87. A digital public infrastructure, ‘BharatTradeNet’ (BTN) for international \\ntrade will be set -up as a unified platform for trade documentation and \\nfinancing solutions. This will complement the Unified Logistics Interface \\nPlatform. The BTN will be aligned wit h international practices.',\n",
       " 'financing solutions. This will complement the Unified Logistics Interface \\nPlatform. The BTN will be aligned wit h international practices.  \\nSupport for integration with Global Supply Chains  \\n88. Support will be provided to develop domestic manufacturing capacities \\nfor our economy’s integration with global supply chains. Sectors will be \\nidentified based on objective criteria.  \\n89. Facilitation groups with participation of senior officers and industry \\nrepresentatives will be formed for select products and supply chains.  \\n90.  Through this, there are huge opportunities related to Industry 4.0, \\nwhich needs high skills and talent. Our youth have both. Our Government  will \\nsupport the domestic electronic equipment industry to leverage this \\nopportunity for the benefit of the youth.',\n",
       " 'which needs high skills and talent. Our youth have both. Our Government  will \\nsupport the domestic electronic equipment industry to leverage this \\nopportunity for the benefit of the youth.  \\nNational Framework for GCC  \\n91. A national framework will be formulated as guidance to states for \\npromoting Global Capability Centres in emerging tier 2 cities. This will suggest  16  \\n \\nmeasures for enhancing availability of talent and infrastructure, building -\\nbyelaw reforms, and mechanisms for collaboration with industry.  \\nWarehousing facility for air cargo  \\n92. Our Government will facilitate upgradation of infrastructure and \\nwarehousing for air cargo including high value perishable horticulture produce. \\nCargo screening and customs protocols will be streamlined and made user -',\n",
       " 'warehousing for air cargo including high value perishable horticulture produce. \\nCargo screening and customs protocols will be streamlined and made user -\\nfriendly.      \\nReforms as the Fuel  \\n93. Now I move to ‘Reforms as the Fuel’, and detail specific reforms.  \\nTax Reforms  \\n94. Over the past 10 years, our Government  has implemented several \\nreforms for convenience of tax payers, such as (1) faceless assessment, (2) tax \\npayers charter, (3) faster returns, (4) almost 99 per cent returns being on self -\\nassessment, and (5) Vivad se Vishwas scheme. Continuing these efforts,   \\nI reaffirm the commitment of the tax department to “trust first, scrutinize later”. \\nI also propose to introduce the new income -tax bill next week. I will detail the',\n",
       " 'I reaffirm the commitment of the tax department to “trust first, scrutinize later”. \\nI also propose to introduce the new income -tax bill next week. I will detail the \\nindirect tax reforms and changes in direct taxes in Part B.   \\nFinancial Sector Reforms and Development  \\nFDI in Insurance Sector  \\n95. The FDI limit for the insurance sector will be raised from 74 to 100 per \\ncent. This enhanced limit will be available for those companies which invest the \\nentire premium in India. The current guardrails and conditionalities associated \\nwith foreign investmen t will be reviewed and simplified.  \\nExpanding Services of India Post Payment Bank  \\n96. The services of India Post Payment Bank will be deepened and \\nexpanded in rural areas.  \\nCredit Enhancement Facility by NaBFID']"
      ]
     },
     "execution_count": 15,
     "metadata": {},
     "output_type": "execute_result"
    }
   ],
   "source": [
    "texts[:50]"
   ]
  },
  {
   "cell_type": "code",
   "execution_count": 16,
   "id": "0c614b16",
   "metadata": {},
   "outputs": [
    {
     "name": "stdout",
     "output_type": "stream",
     "text": [
      "Inserted 50 headlines.\n"
     ]
    }
   ],
   "source": [
    "astra_vector_store.add_texts(texts[:50])\n",
    "print(\"Inserted %i headlines.\" % len(texts[:50]))\n",
    "astra_vector_index = VectorStoreIndexWrapper(vectorstore=astra_vector_store)\n"
   ]
  },
  {
   "cell_type": "code",
   "execution_count": 20,
   "id": "af6e1dc7",
   "metadata": {},
   "outputs": [],
   "source": [
    "llm = OpenAI(openai_api_key=OPENAI_API_KEY)"
   ]
  },
  {
   "cell_type": "code",
   "execution_count": null,
   "id": "56744a58",
   "metadata": {},
   "outputs": [
    {
     "name": "stdout",
     "output_type": "stream",
     "text": [
      "\n",
      "QUESTION: \"what is the current gdp\"\n",
      "ANSWER: \"I do not have enough information to answer that question. The provided context does not mention the current GDP (gross domestic product) of India.\"\n",
      "\n",
      "FIRST DOCUMENTS BY RELEVANCE:\n",
      "    [0.8940] \"geopolitical headwinds suggest lower  global economic growth over the \n",
      "medium term.  ...\"\n",
      "    [0.8804] \"which needs high skills and talent. Our youth have both. Our Government  will \n",
      "suppo ...\"\n",
      "    [0.8797] \"Minister of Finance  \n",
      "February 1 , 202 5 \n",
      "Hon’ble Speaker,  \n",
      " I present the Budget f ...\"\n",
      "    [0.8785] \"blended finance facility with contribution from the Government , banks and \n",
      "private  ...\"\n",
      "\n",
      "QUESTION: \"how much the agritcultural target will be increased to and what the focus will be\"\n",
      "ANSWER: \"The agricultural target will be increased by 1.7 crore farmers and the focus will be on rural women, young farmers, rural youth, marginal and small farmers, and landless families.\"\n",
      "\n",
      "FIRST DOCUMENTS BY RELEVANCE:\n",
      "    [0.9178] \"rural areas so that migration is an option, but not a necessity.  \n",
      "12. The programme ...\"\n",
      "    [0.9092] \"sustainable agriculture practices, (3) augment post -harvest stor age at the \n",
      "pancha ...\"\n",
      "    [0.9084] \"Seafood exports are valued at ` 60 thousand crore. To unlock the untapped \n",
      "potential ...\"\n",
      "    [0.9081] \"and training support to makhana farmers and will also work to ensure they \n",
      "receive t ...\"\n"
     ]
    }
   ],
   "source": [
    "# qa cycle\n",
    "\n",
    "first_question = True\n",
    "while True:\n",
    "    if first_question:\n",
    "        query_text = input(\"\\nEnter your question (or type quit to exit): \").strip()\n",
    "    else:\n",
    "        query_text = input(\"\\nWhat's Your next question: \").strip()\n",
    "    \n",
    "    if query_text.lower() == 'quit':\n",
    "        break\n",
    "    if query_text == '':\n",
    "        continue\n",
    "    \n",
    "    first_question = False\n",
    "    \n",
    "    print(\"\\nQUESTION: \\\"%s\\\"\" % query_text) \n",
    "    answer = astra_vector_index.query(query_text, llm = llm).strip()\n",
    "    print(\"ANSWER: \\\"%s\\\"\\n\" % answer)\n",
    "    \n",
    "    print(\"FIRST DOCUMENTS BY RELEVANCE:\")\n",
    "    for doc, score in astra_vector_store.similarity_search_with_score(query_text, k=4):\n",
    "        print(\"    [%0.4f] \\\"%s ...\\\"\" % (score, doc.page_content[:84]))\n",
    "    "
   ]
  }
 ],
 "metadata": {
  "kernelspec": {
   "display_name": "venv (3.12.3)",
   "language": "python",
   "name": "python3"
  },
  "language_info": {
   "codemirror_mode": {
    "name": "ipython",
    "version": 3
   },
   "file_extension": ".py",
   "mimetype": "text/x-python",
   "name": "python",
   "nbconvert_exporter": "python",
   "pygments_lexer": "ipython3",
   "version": "3.12.3"
  }
 },
 "nbformat": 4,
 "nbformat_minor": 5
}
